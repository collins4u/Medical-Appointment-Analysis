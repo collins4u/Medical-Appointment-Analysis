{
 "cells": [
  {
   "cell_type": "markdown",
   "id": "5e964be3",
   "metadata": {
    "papermill": {
     "duration": 0.017439,
     "end_time": "2022-06-21T01:21:34.268971",
     "exception": false,
     "start_time": "2022-06-21T01:21:34.251532",
     "status": "completed"
    },
    "tags": []
   },
   "source": [
    "# Project: Medical Appointment Analysis\n",
    "\n",
    "## Table of Contents\n",
    "<ul>\n",
    "<li><a href=\"#intro\">Introduction</a></li>\n",
    "<li><a href=\"#wrangling\">Data Wrangling</a></li>\n",
    "<li><a href=\"#eda\">Exploratory Data Analysis</a></li>\n",
    "<li><a href=\"#conclusions\">Conclusions</a></li>\n",
    "</ul>\n",
    "\n",
    "<a id='intro'></a>\n",
    "## Introduction\n",
    "\n",
    "### Dataset Description \n",
    "\n",
    "> This dataset collects information from 100k medical appointments in Brazil and is focused on the question of whether or not patients show up for their appointment. A number of characteristics about the patient are included in each row. See columns below\n",
    "><ul>\n",
    "    <li>PatientID</li>\n",
    "    <li>AppointmentID</li>\n",
    "    <li>Gender</li>\n",
    "    <li>ScheduledDay - day the patient set up their appointment.</li>\n",
    "    <li>AppointmentDay - day the patient had the appointment.</li>\n",
    "    <li>Age</li>\n",
    "    <li>Neighborhood - indicates the location of the hospital.</li>\n",
    "    <li>Scholarship - indicates whether or not the patient is enrolled in Brasilian welfare program Bolsa Família.</li>\n",
    "    <li>Hipertension</li>\n",
    "    <li>Diabetes</li>\n",
    "    <li>Alcoholism</li>\n",
    "    <li>Handcap</li>\n",
    "    <li>SMS_received - '0' if they did not receive and '1' if they did.</li>\n",
    "    <li>No-show: 'No' if the patient showed up to their appointment, and 'Yes' if they did not show up.</li>\n",
    "</ul>\n",
    "    \n",
    "    \n",
    "    \n",
    "    \n",
    "\n",
    "\n",
    "### Question(s) for Analysis\n",
    ">This Project will explore and provide insights to the following qustions:\n",
    "1. What is the percentage of patients who attended their appointments against those who missed?\n",
    "2. Does the age of a patient affect their attendance to appointments?\n",
    "3. Does increase in number of waiting days affect patients attendance to appointments?\n",
    "4. Does receiving SMS reminder affect patients attendance to appointments?"
   ]
  },
  {
   "cell_type": "code",
   "execution_count": 1,
   "id": "a23286d1",
   "metadata": {
    "execution": {
     "iopub.execute_input": "2022-06-21T01:21:34.302345Z",
     "iopub.status.busy": "2022-06-21T01:21:34.301599Z",
     "iopub.status.idle": "2022-06-21T01:21:35.633787Z",
     "shell.execute_reply": "2022-06-21T01:21:35.632933Z"
    },
    "papermill": {
     "duration": 1.351888,
     "end_time": "2022-06-21T01:21:35.636330",
     "exception": false,
     "start_time": "2022-06-21T01:21:34.284442",
     "status": "completed"
    },
    "tags": []
   },
   "outputs": [],
   "source": [
    "# import packages\n",
    "import pandas as pd\n",
    "import numpy as np\n",
    "import matplotlib.pyplot as plt\n",
    "import seaborn as sns\n",
    "%matplotlib inline"
   ]
  },
  {
   "cell_type": "markdown",
   "id": "bd3220b2",
   "metadata": {
    "papermill": {
     "duration": 0.015127,
     "end_time": "2022-06-21T01:21:35.667635",
     "exception": false,
     "start_time": "2022-06-21T01:21:35.652508",
     "status": "completed"
    },
    "tags": []
   },
   "source": [
    "<a id='wrangling'></a>\n",
    "## Data Wrangling\n",
    "\n",
    "**In this section, we will load in the data, check for cleanliness, and then trim and clean the dataset for analysis.**"
   ]
  },
  {
   "cell_type": "code",
   "execution_count": 2,
   "id": "9026cb1d",
   "metadata": {
    "execution": {
     "iopub.execute_input": "2022-06-21T01:21:35.701422Z",
     "iopub.status.busy": "2022-06-21T01:21:35.700952Z",
     "iopub.status.idle": "2022-06-21T01:21:36.168321Z",
     "shell.execute_reply": "2022-06-21T01:21:36.167309Z"
    },
    "papermill": {
     "duration": 0.487431,
     "end_time": "2022-06-21T01:21:36.171301",
     "exception": false,
     "start_time": "2022-06-21T01:21:35.683870",
     "status": "completed"
    },
    "tags": []
   },
   "outputs": [
    {
     "data": {
      "text/html": [
       "<div>\n",
       "<style scoped>\n",
       "    .dataframe tbody tr th:only-of-type {\n",
       "        vertical-align: middle;\n",
       "    }\n",
       "\n",
       "    .dataframe tbody tr th {\n",
       "        vertical-align: top;\n",
       "    }\n",
       "\n",
       "    .dataframe thead th {\n",
       "        text-align: right;\n",
       "    }\n",
       "</style>\n",
       "<table border=\"1\" class=\"dataframe\">\n",
       "  <thead>\n",
       "    <tr style=\"text-align: right;\">\n",
       "      <th></th>\n",
       "      <th>PatientId</th>\n",
       "      <th>AppointmentID</th>\n",
       "      <th>Gender</th>\n",
       "      <th>ScheduledDay</th>\n",
       "      <th>AppointmentDay</th>\n",
       "      <th>Age</th>\n",
       "      <th>Neighbourhood</th>\n",
       "      <th>Scholarship</th>\n",
       "      <th>Hipertension</th>\n",
       "      <th>Diabetes</th>\n",
       "      <th>Alcoholism</th>\n",
       "      <th>Handcap</th>\n",
       "      <th>SMS_received</th>\n",
       "      <th>No-show</th>\n",
       "    </tr>\n",
       "  </thead>\n",
       "  <tbody>\n",
       "    <tr>\n",
       "      <th>0</th>\n",
       "      <td>2.987250e+13</td>\n",
       "      <td>5642903</td>\n",
       "      <td>F</td>\n",
       "      <td>2016-04-29T18:38:08Z</td>\n",
       "      <td>2016-04-29T00:00:00Z</td>\n",
       "      <td>62</td>\n",
       "      <td>JARDIM DA PENHA</td>\n",
       "      <td>0</td>\n",
       "      <td>1</td>\n",
       "      <td>0</td>\n",
       "      <td>0</td>\n",
       "      <td>0</td>\n",
       "      <td>0</td>\n",
       "      <td>No</td>\n",
       "    </tr>\n",
       "    <tr>\n",
       "      <th>1</th>\n",
       "      <td>5.589978e+14</td>\n",
       "      <td>5642503</td>\n",
       "      <td>M</td>\n",
       "      <td>2016-04-29T16:08:27Z</td>\n",
       "      <td>2016-04-29T00:00:00Z</td>\n",
       "      <td>56</td>\n",
       "      <td>JARDIM DA PENHA</td>\n",
       "      <td>0</td>\n",
       "      <td>0</td>\n",
       "      <td>0</td>\n",
       "      <td>0</td>\n",
       "      <td>0</td>\n",
       "      <td>0</td>\n",
       "      <td>No</td>\n",
       "    </tr>\n",
       "    <tr>\n",
       "      <th>2</th>\n",
       "      <td>4.262962e+12</td>\n",
       "      <td>5642549</td>\n",
       "      <td>F</td>\n",
       "      <td>2016-04-29T16:19:04Z</td>\n",
       "      <td>2016-04-29T00:00:00Z</td>\n",
       "      <td>62</td>\n",
       "      <td>MATA DA PRAIA</td>\n",
       "      <td>0</td>\n",
       "      <td>0</td>\n",
       "      <td>0</td>\n",
       "      <td>0</td>\n",
       "      <td>0</td>\n",
       "      <td>0</td>\n",
       "      <td>No</td>\n",
       "    </tr>\n",
       "    <tr>\n",
       "      <th>3</th>\n",
       "      <td>8.679512e+11</td>\n",
       "      <td>5642828</td>\n",
       "      <td>F</td>\n",
       "      <td>2016-04-29T17:29:31Z</td>\n",
       "      <td>2016-04-29T00:00:00Z</td>\n",
       "      <td>8</td>\n",
       "      <td>PONTAL DE CAMBURI</td>\n",
       "      <td>0</td>\n",
       "      <td>0</td>\n",
       "      <td>0</td>\n",
       "      <td>0</td>\n",
       "      <td>0</td>\n",
       "      <td>0</td>\n",
       "      <td>No</td>\n",
       "    </tr>\n",
       "    <tr>\n",
       "      <th>4</th>\n",
       "      <td>8.841186e+12</td>\n",
       "      <td>5642494</td>\n",
       "      <td>F</td>\n",
       "      <td>2016-04-29T16:07:23Z</td>\n",
       "      <td>2016-04-29T00:00:00Z</td>\n",
       "      <td>56</td>\n",
       "      <td>JARDIM DA PENHA</td>\n",
       "      <td>0</td>\n",
       "      <td>1</td>\n",
       "      <td>1</td>\n",
       "      <td>0</td>\n",
       "      <td>0</td>\n",
       "      <td>0</td>\n",
       "      <td>No</td>\n",
       "    </tr>\n",
       "  </tbody>\n",
       "</table>\n",
       "</div>"
      ],
      "text/plain": [
       "      PatientId  AppointmentID Gender          ScheduledDay  \\\n",
       "0  2.987250e+13        5642903      F  2016-04-29T18:38:08Z   \n",
       "1  5.589978e+14        5642503      M  2016-04-29T16:08:27Z   \n",
       "2  4.262962e+12        5642549      F  2016-04-29T16:19:04Z   \n",
       "3  8.679512e+11        5642828      F  2016-04-29T17:29:31Z   \n",
       "4  8.841186e+12        5642494      F  2016-04-29T16:07:23Z   \n",
       "\n",
       "         AppointmentDay  Age      Neighbourhood  Scholarship  Hipertension  \\\n",
       "0  2016-04-29T00:00:00Z   62    JARDIM DA PENHA            0             1   \n",
       "1  2016-04-29T00:00:00Z   56    JARDIM DA PENHA            0             0   \n",
       "2  2016-04-29T00:00:00Z   62      MATA DA PRAIA            0             0   \n",
       "3  2016-04-29T00:00:00Z    8  PONTAL DE CAMBURI            0             0   \n",
       "4  2016-04-29T00:00:00Z   56    JARDIM DA PENHA            0             1   \n",
       "\n",
       "   Diabetes  Alcoholism  Handcap  SMS_received No-show  \n",
       "0         0           0        0             0      No  \n",
       "1         0           0        0             0      No  \n",
       "2         0           0        0             0      No  \n",
       "3         0           0        0             0      No  \n",
       "4         1           0        0             0      No  "
      ]
     },
     "execution_count": 2,
     "metadata": {},
     "output_type": "execute_result"
    }
   ],
   "source": [
    "# Load data\n",
    "df = pd.read_csv('../input/noshowappointments/KaggleV2-May-2016.csv')\n",
    "df.head()"
   ]
  },
  {
   "cell_type": "markdown",
   "id": "2370b6ac",
   "metadata": {
    "papermill": {
     "duration": 0.015441,
     "end_time": "2022-06-21T01:21:36.203753",
     "exception": false,
     "start_time": "2022-06-21T01:21:36.188312",
     "status": "completed"
    },
    "tags": []
   },
   "source": [
    "**Accessing and building intuition**"
   ]
  },
  {
   "cell_type": "code",
   "execution_count": 3,
   "id": "3b25ceca",
   "metadata": {
    "execution": {
     "iopub.execute_input": "2022-06-21T01:21:36.237858Z",
     "iopub.status.busy": "2022-06-21T01:21:36.237282Z",
     "iopub.status.idle": "2022-06-21T01:21:36.326655Z",
     "shell.execute_reply": "2022-06-21T01:21:36.325643Z"
    },
    "papermill": {
     "duration": 0.109352,
     "end_time": "2022-06-21T01:21:36.329298",
     "exception": false,
     "start_time": "2022-06-21T01:21:36.219946",
     "status": "completed"
    },
    "tags": []
   },
   "outputs": [
    {
     "name": "stdout",
     "output_type": "stream",
     "text": [
      "<class 'pandas.core.frame.DataFrame'>\n",
      "RangeIndex: 110527 entries, 0 to 110526\n",
      "Data columns (total 14 columns):\n",
      " #   Column          Non-Null Count   Dtype  \n",
      "---  ------          --------------   -----  \n",
      " 0   PatientId       110527 non-null  float64\n",
      " 1   AppointmentID   110527 non-null  int64  \n",
      " 2   Gender          110527 non-null  object \n",
      " 3   ScheduledDay    110527 non-null  object \n",
      " 4   AppointmentDay  110527 non-null  object \n",
      " 5   Age             110527 non-null  int64  \n",
      " 6   Neighbourhood   110527 non-null  object \n",
      " 7   Scholarship     110527 non-null  int64  \n",
      " 8   Hipertension    110527 non-null  int64  \n",
      " 9   Diabetes        110527 non-null  int64  \n",
      " 10  Alcoholism      110527 non-null  int64  \n",
      " 11  Handcap         110527 non-null  int64  \n",
      " 12  SMS_received    110527 non-null  int64  \n",
      " 13  No-show         110527 non-null  object \n",
      "dtypes: float64(1), int64(8), object(5)\n",
      "memory usage: 11.8+ MB\n"
     ]
    }
   ],
   "source": [
    "df.info()"
   ]
  },
  {
   "cell_type": "code",
   "execution_count": 4,
   "id": "8487d9d5",
   "metadata": {
    "execution": {
     "iopub.execute_input": "2022-06-21T01:21:36.365188Z",
     "iopub.status.busy": "2022-06-21T01:21:36.364539Z",
     "iopub.status.idle": "2022-06-21T01:21:36.371310Z",
     "shell.execute_reply": "2022-06-21T01:21:36.370100Z"
    },
    "papermill": {
     "duration": 0.027566,
     "end_time": "2022-06-21T01:21:36.373670",
     "exception": false,
     "start_time": "2022-06-21T01:21:36.346104",
     "status": "completed"
    },
    "tags": []
   },
   "outputs": [
    {
     "data": {
      "text/plain": [
       "(110527, 14)"
      ]
     },
     "execution_count": 4,
     "metadata": {},
     "output_type": "execute_result"
    }
   ],
   "source": [
    "df.shape"
   ]
  },
  {
   "cell_type": "markdown",
   "id": "eb6f66c0",
   "metadata": {
    "papermill": {
     "duration": 0.017532,
     "end_time": "2022-06-21T01:21:36.407911",
     "exception": false,
     "start_time": "2022-06-21T01:21:36.390379",
     "status": "completed"
    },
    "tags": []
   },
   "source": [
    ">There are `110527` rows and `14` columns in the dataset."
   ]
  },
  {
   "cell_type": "code",
   "execution_count": 5,
   "id": "68a32459",
   "metadata": {
    "execution": {
     "iopub.execute_input": "2022-06-21T01:21:36.445551Z",
     "iopub.status.busy": "2022-06-21T01:21:36.445149Z",
     "iopub.status.idle": "2022-06-21T01:21:36.519269Z",
     "shell.execute_reply": "2022-06-21T01:21:36.518122Z"
    },
    "papermill": {
     "duration": 0.096913,
     "end_time": "2022-06-21T01:21:36.521818",
     "exception": false,
     "start_time": "2022-06-21T01:21:36.424905",
     "status": "completed"
    },
    "tags": []
   },
   "outputs": [
    {
     "data": {
      "text/html": [
       "<div>\n",
       "<style scoped>\n",
       "    .dataframe tbody tr th:only-of-type {\n",
       "        vertical-align: middle;\n",
       "    }\n",
       "\n",
       "    .dataframe tbody tr th {\n",
       "        vertical-align: top;\n",
       "    }\n",
       "\n",
       "    .dataframe thead th {\n",
       "        text-align: right;\n",
       "    }\n",
       "</style>\n",
       "<table border=\"1\" class=\"dataframe\">\n",
       "  <thead>\n",
       "    <tr style=\"text-align: right;\">\n",
       "      <th></th>\n",
       "      <th>PatientId</th>\n",
       "      <th>AppointmentID</th>\n",
       "      <th>Age</th>\n",
       "      <th>Scholarship</th>\n",
       "      <th>Hipertension</th>\n",
       "      <th>Diabetes</th>\n",
       "      <th>Alcoholism</th>\n",
       "      <th>Handcap</th>\n",
       "      <th>SMS_received</th>\n",
       "    </tr>\n",
       "  </thead>\n",
       "  <tbody>\n",
       "    <tr>\n",
       "      <th>count</th>\n",
       "      <td>1.105270e+05</td>\n",
       "      <td>1.105270e+05</td>\n",
       "      <td>110527.000000</td>\n",
       "      <td>110527.000000</td>\n",
       "      <td>110527.000000</td>\n",
       "      <td>110527.000000</td>\n",
       "      <td>110527.000000</td>\n",
       "      <td>110527.000000</td>\n",
       "      <td>110527.000000</td>\n",
       "    </tr>\n",
       "    <tr>\n",
       "      <th>mean</th>\n",
       "      <td>1.474963e+14</td>\n",
       "      <td>5.675305e+06</td>\n",
       "      <td>37.088874</td>\n",
       "      <td>0.098266</td>\n",
       "      <td>0.197246</td>\n",
       "      <td>0.071865</td>\n",
       "      <td>0.030400</td>\n",
       "      <td>0.022248</td>\n",
       "      <td>0.321026</td>\n",
       "    </tr>\n",
       "    <tr>\n",
       "      <th>std</th>\n",
       "      <td>2.560949e+14</td>\n",
       "      <td>7.129575e+04</td>\n",
       "      <td>23.110205</td>\n",
       "      <td>0.297675</td>\n",
       "      <td>0.397921</td>\n",
       "      <td>0.258265</td>\n",
       "      <td>0.171686</td>\n",
       "      <td>0.161543</td>\n",
       "      <td>0.466873</td>\n",
       "    </tr>\n",
       "    <tr>\n",
       "      <th>min</th>\n",
       "      <td>3.921784e+04</td>\n",
       "      <td>5.030230e+06</td>\n",
       "      <td>-1.000000</td>\n",
       "      <td>0.000000</td>\n",
       "      <td>0.000000</td>\n",
       "      <td>0.000000</td>\n",
       "      <td>0.000000</td>\n",
       "      <td>0.000000</td>\n",
       "      <td>0.000000</td>\n",
       "    </tr>\n",
       "    <tr>\n",
       "      <th>25%</th>\n",
       "      <td>4.172614e+12</td>\n",
       "      <td>5.640286e+06</td>\n",
       "      <td>18.000000</td>\n",
       "      <td>0.000000</td>\n",
       "      <td>0.000000</td>\n",
       "      <td>0.000000</td>\n",
       "      <td>0.000000</td>\n",
       "      <td>0.000000</td>\n",
       "      <td>0.000000</td>\n",
       "    </tr>\n",
       "    <tr>\n",
       "      <th>50%</th>\n",
       "      <td>3.173184e+13</td>\n",
       "      <td>5.680573e+06</td>\n",
       "      <td>37.000000</td>\n",
       "      <td>0.000000</td>\n",
       "      <td>0.000000</td>\n",
       "      <td>0.000000</td>\n",
       "      <td>0.000000</td>\n",
       "      <td>0.000000</td>\n",
       "      <td>0.000000</td>\n",
       "    </tr>\n",
       "    <tr>\n",
       "      <th>75%</th>\n",
       "      <td>9.439172e+13</td>\n",
       "      <td>5.725524e+06</td>\n",
       "      <td>55.000000</td>\n",
       "      <td>0.000000</td>\n",
       "      <td>0.000000</td>\n",
       "      <td>0.000000</td>\n",
       "      <td>0.000000</td>\n",
       "      <td>0.000000</td>\n",
       "      <td>1.000000</td>\n",
       "    </tr>\n",
       "    <tr>\n",
       "      <th>max</th>\n",
       "      <td>9.999816e+14</td>\n",
       "      <td>5.790484e+06</td>\n",
       "      <td>115.000000</td>\n",
       "      <td>1.000000</td>\n",
       "      <td>1.000000</td>\n",
       "      <td>1.000000</td>\n",
       "      <td>1.000000</td>\n",
       "      <td>4.000000</td>\n",
       "      <td>1.000000</td>\n",
       "    </tr>\n",
       "  </tbody>\n",
       "</table>\n",
       "</div>"
      ],
      "text/plain": [
       "          PatientId  AppointmentID            Age    Scholarship  \\\n",
       "count  1.105270e+05   1.105270e+05  110527.000000  110527.000000   \n",
       "mean   1.474963e+14   5.675305e+06      37.088874       0.098266   \n",
       "std    2.560949e+14   7.129575e+04      23.110205       0.297675   \n",
       "min    3.921784e+04   5.030230e+06      -1.000000       0.000000   \n",
       "25%    4.172614e+12   5.640286e+06      18.000000       0.000000   \n",
       "50%    3.173184e+13   5.680573e+06      37.000000       0.000000   \n",
       "75%    9.439172e+13   5.725524e+06      55.000000       0.000000   \n",
       "max    9.999816e+14   5.790484e+06     115.000000       1.000000   \n",
       "\n",
       "        Hipertension       Diabetes     Alcoholism        Handcap  \\\n",
       "count  110527.000000  110527.000000  110527.000000  110527.000000   \n",
       "mean        0.197246       0.071865       0.030400       0.022248   \n",
       "std         0.397921       0.258265       0.171686       0.161543   \n",
       "min         0.000000       0.000000       0.000000       0.000000   \n",
       "25%         0.000000       0.000000       0.000000       0.000000   \n",
       "50%         0.000000       0.000000       0.000000       0.000000   \n",
       "75%         0.000000       0.000000       0.000000       0.000000   \n",
       "max         1.000000       1.000000       1.000000       4.000000   \n",
       "\n",
       "        SMS_received  \n",
       "count  110527.000000  \n",
       "mean        0.321026  \n",
       "std         0.466873  \n",
       "min         0.000000  \n",
       "25%         0.000000  \n",
       "50%         0.000000  \n",
       "75%         1.000000  \n",
       "max         1.000000  "
      ]
     },
     "execution_count": 5,
     "metadata": {},
     "output_type": "execute_result"
    }
   ],
   "source": [
    "df.describe()"
   ]
  },
  {
   "cell_type": "markdown",
   "id": "0517c348",
   "metadata": {
    "papermill": {
     "duration": 0.016574,
     "end_time": "2022-06-21T01:21:36.555698",
     "exception": false,
     "start_time": "2022-06-21T01:21:36.539124",
     "status": "completed"
    },
    "tags": []
   },
   "source": [
    "> From the above summary, we can deduce the fellowing;\n",
    "><ul>\n",
    "    <li>The average age of the patient is 37 years old.</li>\n",
    "    <li>The youngest patient is -1 years old (which seems to be incorrect).</li>\n",
    "    <li>The oldest patient is 115 years old.</li>\n",
    "    <li>Less than half of the SMS sent were received.</li>\n",
    "</ul>"
   ]
  },
  {
   "cell_type": "code",
   "execution_count": 6,
   "id": "4f4d3016",
   "metadata": {
    "execution": {
     "iopub.execute_input": "2022-06-21T01:21:36.590064Z",
     "iopub.status.busy": "2022-06-21T01:21:36.589661Z",
     "iopub.status.idle": "2022-06-21T01:21:36.659739Z",
     "shell.execute_reply": "2022-06-21T01:21:36.658611Z"
    },
    "papermill": {
     "duration": 0.089576,
     "end_time": "2022-06-21T01:21:36.662049",
     "exception": false,
     "start_time": "2022-06-21T01:21:36.572473",
     "status": "completed"
    },
    "tags": []
   },
   "outputs": [
    {
     "data": {
      "text/plain": [
       "0"
      ]
     },
     "execution_count": 6,
     "metadata": {},
     "output_type": "execute_result"
    }
   ],
   "source": [
    "sum(df.isnull().sum())"
   ]
  },
  {
   "cell_type": "markdown",
   "id": "eec50832",
   "metadata": {
    "papermill": {
     "duration": 0.015815,
     "end_time": "2022-06-21T01:21:36.694158",
     "exception": false,
     "start_time": "2022-06-21T01:21:36.678343",
     "status": "completed"
    },
    "tags": []
   },
   "source": [
    ">In the above cell, it is clear that there are no missing values in the dataset."
   ]
  },
  {
   "cell_type": "code",
   "execution_count": 7,
   "id": "dae97939",
   "metadata": {
    "execution": {
     "iopub.execute_input": "2022-06-21T01:21:36.728379Z",
     "iopub.status.busy": "2022-06-21T01:21:36.727895Z",
     "iopub.status.idle": "2022-06-21T01:21:36.845511Z",
     "shell.execute_reply": "2022-06-21T01:21:36.844289Z"
    },
    "papermill": {
     "duration": 0.137872,
     "end_time": "2022-06-21T01:21:36.848168",
     "exception": false,
     "start_time": "2022-06-21T01:21:36.710296",
     "status": "completed"
    },
    "tags": []
   },
   "outputs": [
    {
     "data": {
      "text/plain": [
       "0"
      ]
     },
     "execution_count": 7,
     "metadata": {},
     "output_type": "execute_result"
    }
   ],
   "source": [
    "df.duplicated().sum()"
   ]
  },
  {
   "cell_type": "markdown",
   "id": "24788f60",
   "metadata": {
    "papermill": {
     "duration": 0.016254,
     "end_time": "2022-06-21T01:21:36.881687",
     "exception": false,
     "start_time": "2022-06-21T01:21:36.865433",
     "status": "completed"
    },
    "tags": []
   },
   "source": [
    ">There are no duplicated values found in the dataset."
   ]
  },
  {
   "cell_type": "markdown",
   "id": "b53c2a63",
   "metadata": {
    "papermill": {
     "duration": 0.01696,
     "end_time": "2022-06-21T01:21:36.916972",
     "exception": false,
     "start_time": "2022-06-21T01:21:36.900012",
     "status": "completed"
    },
    "tags": []
   },
   "source": [
    "\n",
    "### Data Cleaning\n"
   ]
  },
  {
   "cell_type": "markdown",
   "id": "16a9cfdf",
   "metadata": {
    "papermill": {
     "duration": 0.015955,
     "end_time": "2022-06-21T01:21:36.949302",
     "exception": false,
     "start_time": "2022-06-21T01:21:36.933347",
     "status": "completed"
    },
    "tags": []
   },
   "source": [
    ">**Renaming column headings**"
   ]
  },
  {
   "cell_type": "code",
   "execution_count": 8,
   "id": "365dcb90",
   "metadata": {
    "execution": {
     "iopub.execute_input": "2022-06-21T01:21:36.985653Z",
     "iopub.status.busy": "2022-06-21T01:21:36.985270Z",
     "iopub.status.idle": "2022-06-21T01:21:36.990784Z",
     "shell.execute_reply": "2022-06-21T01:21:36.989836Z"
    },
    "papermill": {
     "duration": 0.025477,
     "end_time": "2022-06-21T01:21:36.992849",
     "exception": false,
     "start_time": "2022-06-21T01:21:36.967372",
     "status": "completed"
    },
    "tags": []
   },
   "outputs": [],
   "source": [
    "df.rename(columns=lambda x: x.strip().lower().replace(\"-\", \"_\"), inplace=True) # Convert to lowercase and \"-\" to \"_\""
   ]
  },
  {
   "cell_type": "code",
   "execution_count": 9,
   "id": "e2727d68",
   "metadata": {
    "execution": {
     "iopub.execute_input": "2022-06-21T01:21:37.027945Z",
     "iopub.status.busy": "2022-06-21T01:21:37.027497Z",
     "iopub.status.idle": "2022-06-21T01:21:37.034445Z",
     "shell.execute_reply": "2022-06-21T01:21:37.033684Z"
    },
    "papermill": {
     "duration": 0.027328,
     "end_time": "2022-06-21T01:21:37.036546",
     "exception": false,
     "start_time": "2022-06-21T01:21:37.009218",
     "status": "completed"
    },
    "tags": []
   },
   "outputs": [],
   "source": [
    "df.rename(columns={'hipertension':'hypertension'},inplace=True) # Correct spelling mistake\n",
    "df.rename(columns={'handcap':'handicap'},inplace=True) # Correct spelling mistake"
   ]
  },
  {
   "cell_type": "code",
   "execution_count": 10,
   "id": "0f84667e",
   "metadata": {
    "execution": {
     "iopub.execute_input": "2022-06-21T01:21:37.071595Z",
     "iopub.status.busy": "2022-06-21T01:21:37.070997Z",
     "iopub.status.idle": "2022-06-21T01:21:37.078311Z",
     "shell.execute_reply": "2022-06-21T01:21:37.077403Z"
    },
    "papermill": {
     "duration": 0.027132,
     "end_time": "2022-06-21T01:21:37.080515",
     "exception": false,
     "start_time": "2022-06-21T01:21:37.053383",
     "status": "completed"
    },
    "tags": []
   },
   "outputs": [],
   "source": [
    "df.rename(columns=lambda x: x.strip().lower().replace(\"id\", \"_id\"), inplace=True) # Place \"_\" between patient/appointment id columns\n",
    "df.rename(columns=lambda x: x.strip().lower().replace(\"day\", \"_day\"), inplace=True) # Place \"_\" between patient/appointment day"
   ]
  },
  {
   "cell_type": "markdown",
   "id": "e547483d",
   "metadata": {
    "papermill": {
     "duration": 0.016735,
     "end_time": "2022-06-21T01:21:37.114279",
     "exception": false,
     "start_time": "2022-06-21T01:21:37.097544",
     "status": "completed"
    },
    "tags": []
   },
   "source": [
    ">In the above cells, we renamed some columns in the dataframe to make it more articulate. See code below for change in columns."
   ]
  },
  {
   "cell_type": "code",
   "execution_count": 11,
   "id": "874e040d",
   "metadata": {
    "execution": {
     "iopub.execute_input": "2022-06-21T01:21:37.148679Z",
     "iopub.status.busy": "2022-06-21T01:21:37.148296Z",
     "iopub.status.idle": "2022-06-21T01:21:37.164980Z",
     "shell.execute_reply": "2022-06-21T01:21:37.163769Z"
    },
    "papermill": {
     "duration": 0.036664,
     "end_time": "2022-06-21T01:21:37.167246",
     "exception": false,
     "start_time": "2022-06-21T01:21:37.130582",
     "status": "completed"
    },
    "scrolled": true,
    "tags": []
   },
   "outputs": [
    {
     "data": {
      "text/html": [
       "<div>\n",
       "<style scoped>\n",
       "    .dataframe tbody tr th:only-of-type {\n",
       "        vertical-align: middle;\n",
       "    }\n",
       "\n",
       "    .dataframe tbody tr th {\n",
       "        vertical-align: top;\n",
       "    }\n",
       "\n",
       "    .dataframe thead th {\n",
       "        text-align: right;\n",
       "    }\n",
       "</style>\n",
       "<table border=\"1\" class=\"dataframe\">\n",
       "  <thead>\n",
       "    <tr style=\"text-align: right;\">\n",
       "      <th></th>\n",
       "      <th>patient_id</th>\n",
       "      <th>appointment_id</th>\n",
       "      <th>gender</th>\n",
       "      <th>scheduled_day</th>\n",
       "      <th>appointment_day</th>\n",
       "      <th>age</th>\n",
       "      <th>neighbourhood</th>\n",
       "      <th>scholarship</th>\n",
       "      <th>hypertension</th>\n",
       "      <th>diabetes</th>\n",
       "      <th>alcoholism</th>\n",
       "      <th>handicap</th>\n",
       "      <th>sms_received</th>\n",
       "      <th>no_show</th>\n",
       "    </tr>\n",
       "  </thead>\n",
       "  <tbody>\n",
       "    <tr>\n",
       "      <th>0</th>\n",
       "      <td>2.987250e+13</td>\n",
       "      <td>5642903</td>\n",
       "      <td>F</td>\n",
       "      <td>2016-04-29T18:38:08Z</td>\n",
       "      <td>2016-04-29T00:00:00Z</td>\n",
       "      <td>62</td>\n",
       "      <td>JARDIM DA PENHA</td>\n",
       "      <td>0</td>\n",
       "      <td>1</td>\n",
       "      <td>0</td>\n",
       "      <td>0</td>\n",
       "      <td>0</td>\n",
       "      <td>0</td>\n",
       "      <td>No</td>\n",
       "    </tr>\n",
       "  </tbody>\n",
       "</table>\n",
       "</div>"
      ],
      "text/plain": [
       "     patient_id  appointment_id gender         scheduled_day  \\\n",
       "0  2.987250e+13         5642903      F  2016-04-29T18:38:08Z   \n",
       "\n",
       "        appointment_day  age    neighbourhood  scholarship  hypertension  \\\n",
       "0  2016-04-29T00:00:00Z   62  JARDIM DA PENHA            0             1   \n",
       "\n",
       "   diabetes  alcoholism  handicap  sms_received no_show  \n",
       "0         0           0         0             0      No  "
      ]
     },
     "execution_count": 11,
     "metadata": {},
     "output_type": "execute_result"
    }
   ],
   "source": [
    "df.head(1)"
   ]
  },
  {
   "cell_type": "markdown",
   "id": "770aa571",
   "metadata": {
    "papermill": {
     "duration": 0.016736,
     "end_time": "2022-06-21T01:21:37.200870",
     "exception": false,
     "start_time": "2022-06-21T01:21:37.184134",
     "status": "completed"
    },
    "tags": []
   },
   "source": [
    ">**Changing datatypes in columns**"
   ]
  },
  {
   "cell_type": "code",
   "execution_count": 12,
   "id": "13057cfb",
   "metadata": {
    "execution": {
     "iopub.execute_input": "2022-06-21T01:21:37.236409Z",
     "iopub.status.busy": "2022-06-21T01:21:37.235964Z",
     "iopub.status.idle": "2022-06-21T01:21:37.244855Z",
     "shell.execute_reply": "2022-06-21T01:21:37.244127Z"
    },
    "papermill": {
     "duration": 0.028937,
     "end_time": "2022-06-21T01:21:37.246703",
     "exception": false,
     "start_time": "2022-06-21T01:21:37.217766",
     "status": "completed"
    },
    "tags": []
   },
   "outputs": [
    {
     "data": {
      "text/plain": [
       "patient_id        float64\n",
       "appointment_id      int64\n",
       "dtype: object"
      ]
     },
     "execution_count": 12,
     "metadata": {},
     "output_type": "execute_result"
    }
   ],
   "source": [
    "df[['patient_id','appointment_id']].dtypes"
   ]
  },
  {
   "cell_type": "markdown",
   "id": "c6628e4a",
   "metadata": {
    "papermill": {
     "duration": 0.019633,
     "end_time": "2022-06-21T01:21:37.285043",
     "exception": false,
     "start_time": "2022-06-21T01:21:37.265410",
     "status": "completed"
    },
    "tags": []
   },
   "source": [
    ">Datatypes of the above columns need to be in `string/object` format. See code cells below for change."
   ]
  },
  {
   "cell_type": "code",
   "execution_count": 13,
   "id": "9108cabb",
   "metadata": {
    "execution": {
     "iopub.execute_input": "2022-06-21T01:21:37.320829Z",
     "iopub.status.busy": "2022-06-21T01:21:37.320388Z",
     "iopub.status.idle": "2022-06-21T01:21:37.584110Z",
     "shell.execute_reply": "2022-06-21T01:21:37.582910Z"
    },
    "papermill": {
     "duration": 0.28406,
     "end_time": "2022-06-21T01:21:37.586578",
     "exception": false,
     "start_time": "2022-06-21T01:21:37.302518",
     "status": "completed"
    },
    "tags": []
   },
   "outputs": [],
   "source": [
    "ids=['patient_id','appointment_id']\n",
    "\n",
    "for to_str in ids:\n",
    "    df[to_str] = df[to_str].astype('str')"
   ]
  },
  {
   "cell_type": "markdown",
   "id": "6e9d9e00",
   "metadata": {
    "papermill": {
     "duration": 0.016111,
     "end_time": "2022-06-21T01:21:37.619401",
     "exception": false,
     "start_time": "2022-06-21T01:21:37.603290",
     "status": "completed"
    },
    "tags": []
   },
   "source": [
    ">In the above cell, we looped through both columns and change their formats to `string/object`. See code cell below to confirm this change."
   ]
  },
  {
   "cell_type": "code",
   "execution_count": 14,
   "id": "0a67658f",
   "metadata": {
    "execution": {
     "iopub.execute_input": "2022-06-21T01:21:37.654257Z",
     "iopub.status.busy": "2022-06-21T01:21:37.653658Z",
     "iopub.status.idle": "2022-06-21T01:21:37.709164Z",
     "shell.execute_reply": "2022-06-21T01:21:37.707999Z"
    },
    "papermill": {
     "duration": 0.075445,
     "end_time": "2022-06-21T01:21:37.711324",
     "exception": false,
     "start_time": "2022-06-21T01:21:37.635879",
     "status": "completed"
    },
    "tags": []
   },
   "outputs": [
    {
     "data": {
      "text/plain": [
       "patient_id        object\n",
       "appointment_id    object\n",
       "dtype: object"
      ]
     },
     "execution_count": 14,
     "metadata": {},
     "output_type": "execute_result"
    }
   ],
   "source": [
    "df[['patient_id','appointment_id']].dtypes"
   ]
  },
  {
   "cell_type": "code",
   "execution_count": 15,
   "id": "f4c1e8ff",
   "metadata": {
    "execution": {
     "iopub.execute_input": "2022-06-21T01:21:37.747979Z",
     "iopub.status.busy": "2022-06-21T01:21:37.747319Z",
     "iopub.status.idle": "2022-06-21T01:21:37.758274Z",
     "shell.execute_reply": "2022-06-21T01:21:37.757506Z"
    },
    "papermill": {
     "duration": 0.031672,
     "end_time": "2022-06-21T01:21:37.760295",
     "exception": false,
     "start_time": "2022-06-21T01:21:37.728623",
     "status": "completed"
    },
    "tags": []
   },
   "outputs": [
    {
     "data": {
      "text/plain": [
       "scheduled_day      object\n",
       "appointment_day    object\n",
       "dtype: object"
      ]
     },
     "execution_count": 15,
     "metadata": {},
     "output_type": "execute_result"
    }
   ],
   "source": [
    "df[['scheduled_day','appointment_day']].dtypes"
   ]
  },
  {
   "cell_type": "markdown",
   "id": "26b7388f",
   "metadata": {
    "papermill": {
     "duration": 0.016585,
     "end_time": "2022-06-21T01:21:37.793887",
     "exception": false,
     "start_time": "2022-06-21T01:21:37.777302",
     "status": "completed"
    },
    "tags": []
   },
   "source": [
    ">Datatypes of the above columns are in the wrong format. They need to be in `datetime()` format. See code cells below for change."
   ]
  },
  {
   "cell_type": "code",
   "execution_count": 16,
   "id": "2ba20d2c",
   "metadata": {
    "execution": {
     "iopub.execute_input": "2022-06-21T01:21:37.829949Z",
     "iopub.status.busy": "2022-06-21T01:21:37.829292Z",
     "iopub.status.idle": "2022-06-21T01:21:37.944579Z",
     "shell.execute_reply": "2022-06-21T01:21:37.943420Z"
    },
    "papermill": {
     "duration": 0.136216,
     "end_time": "2022-06-21T01:21:37.947061",
     "exception": false,
     "start_time": "2022-06-21T01:21:37.810845",
     "status": "completed"
    },
    "tags": []
   },
   "outputs": [],
   "source": [
    "dates=['scheduled_day','appointment_day']\n",
    "\n",
    "for date in dates:\n",
    "    df[date] = pd.to_datetime(df[date])"
   ]
  },
  {
   "cell_type": "markdown",
   "id": "e3332e7b",
   "metadata": {
    "papermill": {
     "duration": 0.016595,
     "end_time": "2022-06-21T01:21:37.980710",
     "exception": false,
     "start_time": "2022-06-21T01:21:37.964115",
     "status": "completed"
    },
    "tags": []
   },
   "source": [
    ">In the above cell, we looped through the two columns and changed the date format to `datetime()`. See code cell below to confirm this change."
   ]
  },
  {
   "cell_type": "code",
   "execution_count": 17,
   "id": "b6f3e971",
   "metadata": {
    "execution": {
     "iopub.execute_input": "2022-06-21T01:21:38.016373Z",
     "iopub.status.busy": "2022-06-21T01:21:38.015799Z",
     "iopub.status.idle": "2022-06-21T01:21:38.025328Z",
     "shell.execute_reply": "2022-06-21T01:21:38.024379Z"
    },
    "papermill": {
     "duration": 0.030054,
     "end_time": "2022-06-21T01:21:38.027651",
     "exception": false,
     "start_time": "2022-06-21T01:21:37.997597",
     "status": "completed"
    },
    "scrolled": true,
    "tags": []
   },
   "outputs": [
    {
     "data": {
      "text/plain": [
       "scheduled_day      datetime64[ns, UTC]\n",
       "appointment_day    datetime64[ns, UTC]\n",
       "dtype: object"
      ]
     },
     "execution_count": 17,
     "metadata": {},
     "output_type": "execute_result"
    }
   ],
   "source": [
    "df[['scheduled_day','appointment_day']].dtypes"
   ]
  },
  {
   "cell_type": "markdown",
   "id": "021329e7",
   "metadata": {
    "papermill": {
     "duration": 0.016646,
     "end_time": "2022-06-21T01:21:38.061521",
     "exception": false,
     "start_time": "2022-06-21T01:21:38.044875",
     "status": "completed"
    },
    "tags": []
   },
   "source": [
    ">**Adding columns**"
   ]
  },
  {
   "cell_type": "code",
   "execution_count": 18,
   "id": "5dde1bf5",
   "metadata": {
    "execution": {
     "iopub.execute_input": "2022-06-21T01:21:38.097780Z",
     "iopub.status.busy": "2022-06-21T01:21:38.096748Z",
     "iopub.status.idle": "2022-06-21T01:21:38.593382Z",
     "shell.execute_reply": "2022-06-21T01:21:38.592233Z"
    },
    "papermill": {
     "duration": 0.518091,
     "end_time": "2022-06-21T01:21:38.596684",
     "exception": false,
     "start_time": "2022-06-21T01:21:38.078593",
     "status": "completed"
    },
    "tags": []
   },
   "outputs": [],
   "source": [
    "waiting_days = df['appointment_day'].dt.date - df['scheduled_day'].dt.date\n",
    "waiting_days = waiting_days.dt.days\n",
    "\n",
    "df.insert(5, 'waiting_days', waiting_days)"
   ]
  },
  {
   "cell_type": "markdown",
   "id": "13855b4b",
   "metadata": {
    "papermill": {
     "duration": 0.017461,
     "end_time": "2022-06-21T01:21:38.631510",
     "exception": false,
     "start_time": "2022-06-21T01:21:38.614049",
     "status": "completed"
    },
    "tags": []
   },
   "source": [
    ">In the above cell, we add a new column `waiting_days`. See code cell below to confirm."
   ]
  },
  {
   "cell_type": "code",
   "execution_count": 19,
   "id": "0425eeb6",
   "metadata": {
    "execution": {
     "iopub.execute_input": "2022-06-21T01:21:38.668208Z",
     "iopub.status.busy": "2022-06-21T01:21:38.667600Z",
     "iopub.status.idle": "2022-06-21T01:21:38.685463Z",
     "shell.execute_reply": "2022-06-21T01:21:38.684442Z"
    },
    "papermill": {
     "duration": 0.039306,
     "end_time": "2022-06-21T01:21:38.688094",
     "exception": false,
     "start_time": "2022-06-21T01:21:38.648788",
     "status": "completed"
    },
    "tags": []
   },
   "outputs": [
    {
     "data": {
      "text/html": [
       "<div>\n",
       "<style scoped>\n",
       "    .dataframe tbody tr th:only-of-type {\n",
       "        vertical-align: middle;\n",
       "    }\n",
       "\n",
       "    .dataframe tbody tr th {\n",
       "        vertical-align: top;\n",
       "    }\n",
       "\n",
       "    .dataframe thead th {\n",
       "        text-align: right;\n",
       "    }\n",
       "</style>\n",
       "<table border=\"1\" class=\"dataframe\">\n",
       "  <thead>\n",
       "    <tr style=\"text-align: right;\">\n",
       "      <th></th>\n",
       "      <th>patient_id</th>\n",
       "      <th>appointment_id</th>\n",
       "      <th>gender</th>\n",
       "      <th>scheduled_day</th>\n",
       "      <th>appointment_day</th>\n",
       "      <th>waiting_days</th>\n",
       "      <th>age</th>\n",
       "      <th>neighbourhood</th>\n",
       "      <th>scholarship</th>\n",
       "      <th>hypertension</th>\n",
       "      <th>diabetes</th>\n",
       "      <th>alcoholism</th>\n",
       "      <th>handicap</th>\n",
       "      <th>sms_received</th>\n",
       "      <th>no_show</th>\n",
       "    </tr>\n",
       "  </thead>\n",
       "  <tbody>\n",
       "    <tr>\n",
       "      <th>0</th>\n",
       "      <td>29872499824296.0</td>\n",
       "      <td>5642903</td>\n",
       "      <td>F</td>\n",
       "      <td>2016-04-29 18:38:08+00:00</td>\n",
       "      <td>2016-04-29 00:00:00+00:00</td>\n",
       "      <td>0</td>\n",
       "      <td>62</td>\n",
       "      <td>JARDIM DA PENHA</td>\n",
       "      <td>0</td>\n",
       "      <td>1</td>\n",
       "      <td>0</td>\n",
       "      <td>0</td>\n",
       "      <td>0</td>\n",
       "      <td>0</td>\n",
       "      <td>No</td>\n",
       "    </tr>\n",
       "  </tbody>\n",
       "</table>\n",
       "</div>"
      ],
      "text/plain": [
       "         patient_id appointment_id gender             scheduled_day  \\\n",
       "0  29872499824296.0        5642903      F 2016-04-29 18:38:08+00:00   \n",
       "\n",
       "            appointment_day  waiting_days  age    neighbourhood  scholarship  \\\n",
       "0 2016-04-29 00:00:00+00:00             0   62  JARDIM DA PENHA            0   \n",
       "\n",
       "   hypertension  diabetes  alcoholism  handicap  sms_received no_show  \n",
       "0             1         0           0         0             0      No  "
      ]
     },
     "execution_count": 19,
     "metadata": {},
     "output_type": "execute_result"
    }
   ],
   "source": [
    "df.head(1)"
   ]
  },
  {
   "cell_type": "code",
   "execution_count": 20,
   "id": "156a68cd",
   "metadata": {
    "execution": {
     "iopub.execute_input": "2022-06-21T01:21:38.737688Z",
     "iopub.status.busy": "2022-06-21T01:21:38.736902Z",
     "iopub.status.idle": "2022-06-21T01:21:38.750432Z",
     "shell.execute_reply": "2022-06-21T01:21:38.749564Z"
    },
    "papermill": {
     "duration": 0.045217,
     "end_time": "2022-06-21T01:21:38.752880",
     "exception": false,
     "start_time": "2022-06-21T01:21:38.707663",
     "status": "completed"
    },
    "tags": []
   },
   "outputs": [],
   "source": [
    "range_labels = ['0-4', '5-9', '10-17', '18-32', '33-52', '53-75', '76+']\n",
    "max_age = df.age.max()\n",
    "bins = [0, 4, 9, 17, 32, 52, 75, max_age]\n",
    "\n",
    "age_range = pd.cut(df['age'],labels=range_labels, bins=bins)\n",
    "df.insert(7, 'age_range', age_range)"
   ]
  },
  {
   "cell_type": "markdown",
   "id": "797b55ce",
   "metadata": {
    "papermill": {
     "duration": 0.017351,
     "end_time": "2022-06-21T01:21:38.787926",
     "exception": false,
     "start_time": "2022-06-21T01:21:38.770575",
     "status": "completed"
    },
    "tags": []
   },
   "source": [
    ">In the above cell, we add a new column `age_range` to show the range of ages of patients. See code cell below to confirm."
   ]
  },
  {
   "cell_type": "code",
   "execution_count": 21,
   "id": "614634f0",
   "metadata": {
    "execution": {
     "iopub.execute_input": "2022-06-21T01:21:38.828181Z",
     "iopub.status.busy": "2022-06-21T01:21:38.827711Z",
     "iopub.status.idle": "2022-06-21T01:21:38.847109Z",
     "shell.execute_reply": "2022-06-21T01:21:38.846112Z"
    },
    "papermill": {
     "duration": 0.042308,
     "end_time": "2022-06-21T01:21:38.849578",
     "exception": false,
     "start_time": "2022-06-21T01:21:38.807270",
     "status": "completed"
    },
    "tags": []
   },
   "outputs": [
    {
     "data": {
      "text/html": [
       "<div>\n",
       "<style scoped>\n",
       "    .dataframe tbody tr th:only-of-type {\n",
       "        vertical-align: middle;\n",
       "    }\n",
       "\n",
       "    .dataframe tbody tr th {\n",
       "        vertical-align: top;\n",
       "    }\n",
       "\n",
       "    .dataframe thead th {\n",
       "        text-align: right;\n",
       "    }\n",
       "</style>\n",
       "<table border=\"1\" class=\"dataframe\">\n",
       "  <thead>\n",
       "    <tr style=\"text-align: right;\">\n",
       "      <th></th>\n",
       "      <th>patient_id</th>\n",
       "      <th>appointment_id</th>\n",
       "      <th>gender</th>\n",
       "      <th>scheduled_day</th>\n",
       "      <th>appointment_day</th>\n",
       "      <th>waiting_days</th>\n",
       "      <th>age</th>\n",
       "      <th>age_range</th>\n",
       "      <th>neighbourhood</th>\n",
       "      <th>scholarship</th>\n",
       "      <th>hypertension</th>\n",
       "      <th>diabetes</th>\n",
       "      <th>alcoholism</th>\n",
       "      <th>handicap</th>\n",
       "      <th>sms_received</th>\n",
       "      <th>no_show</th>\n",
       "    </tr>\n",
       "  </thead>\n",
       "  <tbody>\n",
       "    <tr>\n",
       "      <th>0</th>\n",
       "      <td>29872499824296.0</td>\n",
       "      <td>5642903</td>\n",
       "      <td>F</td>\n",
       "      <td>2016-04-29 18:38:08+00:00</td>\n",
       "      <td>2016-04-29 00:00:00+00:00</td>\n",
       "      <td>0</td>\n",
       "      <td>62</td>\n",
       "      <td>53-75</td>\n",
       "      <td>JARDIM DA PENHA</td>\n",
       "      <td>0</td>\n",
       "      <td>1</td>\n",
       "      <td>0</td>\n",
       "      <td>0</td>\n",
       "      <td>0</td>\n",
       "      <td>0</td>\n",
       "      <td>No</td>\n",
       "    </tr>\n",
       "  </tbody>\n",
       "</table>\n",
       "</div>"
      ],
      "text/plain": [
       "         patient_id appointment_id gender             scheduled_day  \\\n",
       "0  29872499824296.0        5642903      F 2016-04-29 18:38:08+00:00   \n",
       "\n",
       "            appointment_day  waiting_days  age age_range    neighbourhood  \\\n",
       "0 2016-04-29 00:00:00+00:00             0   62     53-75  JARDIM DA PENHA   \n",
       "\n",
       "   scholarship  hypertension  diabetes  alcoholism  handicap  sms_received  \\\n",
       "0            0             1         0           0         0             0   \n",
       "\n",
       "  no_show  \n",
       "0      No  "
      ]
     },
     "execution_count": 21,
     "metadata": {},
     "output_type": "execute_result"
    }
   ],
   "source": [
    "df.head(1)"
   ]
  },
  {
   "cell_type": "markdown",
   "id": "6a550fa9",
   "metadata": {
    "papermill": {
     "duration": 0.017739,
     "end_time": "2022-06-21T01:21:38.886574",
     "exception": false,
     "start_time": "2022-06-21T01:21:38.868835",
     "status": "completed"
    },
    "tags": []
   },
   "source": [
    ">**Dropping columns / rows**"
   ]
  },
  {
   "cell_type": "code",
   "execution_count": 22,
   "id": "059ed89a",
   "metadata": {
    "execution": {
     "iopub.execute_input": "2022-06-21T01:21:38.924988Z",
     "iopub.status.busy": "2022-06-21T01:21:38.923837Z",
     "iopub.status.idle": "2022-06-21T01:21:38.954310Z",
     "shell.execute_reply": "2022-06-21T01:21:38.953434Z"
    },
    "papermill": {
     "duration": 0.052972,
     "end_time": "2022-06-21T01:21:38.957606",
     "exception": false,
     "start_time": "2022-06-21T01:21:38.904634",
     "status": "completed"
    },
    "tags": []
   },
   "outputs": [],
   "source": [
    "df.drop(['appointment_id'], axis=1, inplace=True)"
   ]
  },
  {
   "cell_type": "markdown",
   "id": "880faad4",
   "metadata": {
    "papermill": {
     "duration": 0.017803,
     "end_time": "2022-06-21T01:21:39.001278",
     "exception": false,
     "start_time": "2022-06-21T01:21:38.983475",
     "status": "completed"
    },
    "tags": []
   },
   "source": [
    ">In the above cell we drop the `appointment_id` column since it has no effect on the analysis. See code cell below to confirm."
   ]
  },
  {
   "cell_type": "code",
   "execution_count": 23,
   "id": "742ffb5d",
   "metadata": {
    "execution": {
     "iopub.execute_input": "2022-06-21T01:21:39.040990Z",
     "iopub.status.busy": "2022-06-21T01:21:39.039790Z",
     "iopub.status.idle": "2022-06-21T01:21:39.062538Z",
     "shell.execute_reply": "2022-06-21T01:21:39.061552Z"
    },
    "papermill": {
     "duration": 0.04464,
     "end_time": "2022-06-21T01:21:39.065005",
     "exception": false,
     "start_time": "2022-06-21T01:21:39.020365",
     "status": "completed"
    },
    "tags": []
   },
   "outputs": [
    {
     "data": {
      "text/html": [
       "<div>\n",
       "<style scoped>\n",
       "    .dataframe tbody tr th:only-of-type {\n",
       "        vertical-align: middle;\n",
       "    }\n",
       "\n",
       "    .dataframe tbody tr th {\n",
       "        vertical-align: top;\n",
       "    }\n",
       "\n",
       "    .dataframe thead th {\n",
       "        text-align: right;\n",
       "    }\n",
       "</style>\n",
       "<table border=\"1\" class=\"dataframe\">\n",
       "  <thead>\n",
       "    <tr style=\"text-align: right;\">\n",
       "      <th></th>\n",
       "      <th>patient_id</th>\n",
       "      <th>gender</th>\n",
       "      <th>scheduled_day</th>\n",
       "      <th>appointment_day</th>\n",
       "      <th>waiting_days</th>\n",
       "      <th>age</th>\n",
       "      <th>age_range</th>\n",
       "      <th>neighbourhood</th>\n",
       "      <th>scholarship</th>\n",
       "      <th>hypertension</th>\n",
       "      <th>diabetes</th>\n",
       "      <th>alcoholism</th>\n",
       "      <th>handicap</th>\n",
       "      <th>sms_received</th>\n",
       "      <th>no_show</th>\n",
       "    </tr>\n",
       "  </thead>\n",
       "  <tbody>\n",
       "    <tr>\n",
       "      <th>0</th>\n",
       "      <td>29872499824296.0</td>\n",
       "      <td>F</td>\n",
       "      <td>2016-04-29 18:38:08+00:00</td>\n",
       "      <td>2016-04-29 00:00:00+00:00</td>\n",
       "      <td>0</td>\n",
       "      <td>62</td>\n",
       "      <td>53-75</td>\n",
       "      <td>JARDIM DA PENHA</td>\n",
       "      <td>0</td>\n",
       "      <td>1</td>\n",
       "      <td>0</td>\n",
       "      <td>0</td>\n",
       "      <td>0</td>\n",
       "      <td>0</td>\n",
       "      <td>No</td>\n",
       "    </tr>\n",
       "  </tbody>\n",
       "</table>\n",
       "</div>"
      ],
      "text/plain": [
       "         patient_id gender             scheduled_day  \\\n",
       "0  29872499824296.0      F 2016-04-29 18:38:08+00:00   \n",
       "\n",
       "            appointment_day  waiting_days  age age_range    neighbourhood  \\\n",
       "0 2016-04-29 00:00:00+00:00             0   62     53-75  JARDIM DA PENHA   \n",
       "\n",
       "   scholarship  hypertension  diabetes  alcoholism  handicap  sms_received  \\\n",
       "0            0             1         0           0         0             0   \n",
       "\n",
       "  no_show  \n",
       "0      No  "
      ]
     },
     "execution_count": 23,
     "metadata": {},
     "output_type": "execute_result"
    }
   ],
   "source": [
    "df.head(1)"
   ]
  },
  {
   "cell_type": "code",
   "execution_count": 24,
   "id": "87d45864",
   "metadata": {
    "execution": {
     "iopub.execute_input": "2022-06-21T01:21:39.107778Z",
     "iopub.status.busy": "2022-06-21T01:21:39.106882Z",
     "iopub.status.idle": "2022-06-21T01:21:39.136880Z",
     "shell.execute_reply": "2022-06-21T01:21:39.136119Z"
    },
    "papermill": {
     "duration": 0.053354,
     "end_time": "2022-06-21T01:21:39.139206",
     "exception": false,
     "start_time": "2022-06-21T01:21:39.085852",
     "status": "completed"
    },
    "tags": []
   },
   "outputs": [
    {
     "data": {
      "text/html": [
       "<div>\n",
       "<style scoped>\n",
       "    .dataframe tbody tr th:only-of-type {\n",
       "        vertical-align: middle;\n",
       "    }\n",
       "\n",
       "    .dataframe tbody tr th {\n",
       "        vertical-align: top;\n",
       "    }\n",
       "\n",
       "    .dataframe thead th {\n",
       "        text-align: right;\n",
       "    }\n",
       "</style>\n",
       "<table border=\"1\" class=\"dataframe\">\n",
       "  <thead>\n",
       "    <tr style=\"text-align: right;\">\n",
       "      <th></th>\n",
       "      <th>patient_id</th>\n",
       "      <th>gender</th>\n",
       "      <th>scheduled_day</th>\n",
       "      <th>appointment_day</th>\n",
       "      <th>waiting_days</th>\n",
       "      <th>age</th>\n",
       "      <th>age_range</th>\n",
       "      <th>neighbourhood</th>\n",
       "      <th>scholarship</th>\n",
       "      <th>hypertension</th>\n",
       "      <th>diabetes</th>\n",
       "      <th>alcoholism</th>\n",
       "      <th>handicap</th>\n",
       "      <th>sms_received</th>\n",
       "      <th>no_show</th>\n",
       "    </tr>\n",
       "  </thead>\n",
       "  <tbody>\n",
       "    <tr>\n",
       "      <th>99832</th>\n",
       "      <td>465943158731293.0</td>\n",
       "      <td>F</td>\n",
       "      <td>2016-06-06 08:58:13+00:00</td>\n",
       "      <td>2016-06-06 00:00:00+00:00</td>\n",
       "      <td>0</td>\n",
       "      <td>-1</td>\n",
       "      <td>NaN</td>\n",
       "      <td>ROMÃO</td>\n",
       "      <td>0</td>\n",
       "      <td>0</td>\n",
       "      <td>0</td>\n",
       "      <td>0</td>\n",
       "      <td>0</td>\n",
       "      <td>0</td>\n",
       "      <td>No</td>\n",
       "    </tr>\n",
       "  </tbody>\n",
       "</table>\n",
       "</div>"
      ],
      "text/plain": [
       "              patient_id gender             scheduled_day  \\\n",
       "99832  465943158731293.0      F 2016-06-06 08:58:13+00:00   \n",
       "\n",
       "                appointment_day  waiting_days  age age_range neighbourhood  \\\n",
       "99832 2016-06-06 00:00:00+00:00             0   -1       NaN         ROMÃO   \n",
       "\n",
       "       scholarship  hypertension  diabetes  alcoholism  handicap  \\\n",
       "99832            0             0         0           0         0   \n",
       "\n",
       "       sms_received no_show  \n",
       "99832             0      No  "
      ]
     },
     "execution_count": 24,
     "metadata": {},
     "output_type": "execute_result"
    }
   ],
   "source": [
    "df.query('age == -1')"
   ]
  },
  {
   "cell_type": "markdown",
   "id": "d9588454",
   "metadata": {
    "papermill": {
     "duration": 0.021585,
     "end_time": "2022-06-21T01:21:39.180256",
     "exception": false,
     "start_time": "2022-06-21T01:21:39.158671",
     "status": "completed"
    },
    "tags": []
   },
   "source": [
    ">The age in the above query is `-1` which renders that row invalid and hence needs to be dropped. See code cell below for rectification."
   ]
  },
  {
   "cell_type": "code",
   "execution_count": 25,
   "id": "4f893cca",
   "metadata": {
    "execution": {
     "iopub.execute_input": "2022-06-21T01:21:39.219424Z",
     "iopub.status.busy": "2022-06-21T01:21:39.218541Z",
     "iopub.status.idle": "2022-06-21T01:21:39.244938Z",
     "shell.execute_reply": "2022-06-21T01:21:39.244162Z"
    },
    "papermill": {
     "duration": 0.048641,
     "end_time": "2022-06-21T01:21:39.247257",
     "exception": false,
     "start_time": "2022-06-21T01:21:39.198616",
     "status": "completed"
    },
    "tags": []
   },
   "outputs": [],
   "source": [
    "df.drop(df.query('age == -1').index, inplace = True)"
   ]
  },
  {
   "cell_type": "markdown",
   "id": "7c18f2a0",
   "metadata": {
    "papermill": {
     "duration": 0.019113,
     "end_time": "2022-06-21T01:21:39.287343",
     "exception": false,
     "start_time": "2022-06-21T01:21:39.268230",
     "status": "completed"
    },
    "tags": []
   },
   "source": [
    "<a id='eda'></a>\n",
    "## Exploratory Data Analysis\n",
    "\n",
    "**In this section, we will explore and investigate the stated question(s) from multiple angles.**\n",
    "\n",
    "## Research Questions:\n",
    "\n",
    "### 1. What is the percentage of patients who attended their appointments against those who missed?"
   ]
  },
  {
   "cell_type": "markdown",
   "id": "17f43d67",
   "metadata": {
    "papermill": {
     "duration": 0.01821,
     "end_time": "2022-06-21T01:21:39.327398",
     "exception": false,
     "start_time": "2022-06-21T01:21:39.309188",
     "status": "completed"
    },
    "tags": []
   },
   "source": [
    ">Before we answer the above question we first need to know the number of patients who attended and that of those who missed. The code cell below provides this."
   ]
  },
  {
   "cell_type": "code",
   "execution_count": 26,
   "id": "4397492f",
   "metadata": {
    "execution": {
     "iopub.execute_input": "2022-06-21T01:21:39.365680Z",
     "iopub.status.busy": "2022-06-21T01:21:39.364920Z",
     "iopub.status.idle": "2022-06-21T01:21:39.390008Z",
     "shell.execute_reply": "2022-06-21T01:21:39.389166Z"
    },
    "papermill": {
     "duration": 0.046815,
     "end_time": "2022-06-21T01:21:39.392382",
     "exception": false,
     "start_time": "2022-06-21T01:21:39.345567",
     "status": "completed"
    },
    "scrolled": true,
    "tags": []
   },
   "outputs": [
    {
     "data": {
      "text/plain": [
       "No     88207\n",
       "Yes    22319\n",
       "Name: no_show, dtype: int64"
      ]
     },
     "execution_count": 26,
     "metadata": {},
     "output_type": "execute_result"
    }
   ],
   "source": [
    "df.no_show.value_counts()"
   ]
  },
  {
   "cell_type": "markdown",
   "id": "f1e0189c",
   "metadata": {
    "papermill": {
     "duration": 0.017917,
     "end_time": "2022-06-21T01:21:39.429763",
     "exception": false,
     "start_time": "2022-06-21T01:21:39.411846",
     "status": "completed"
    },
    "tags": []
   },
   "source": [
    ">It is clear from the cell above that the number of patients who attended their appointment is more than that of those who did not. **NB:** `No` means patient attended appointment. `Yes` means patient missed appointment."
   ]
  },
  {
   "cell_type": "code",
   "execution_count": 27,
   "id": "a5156019",
   "metadata": {
    "execution": {
     "iopub.execute_input": "2022-06-21T01:21:39.467950Z",
     "iopub.status.busy": "2022-06-21T01:21:39.467392Z",
     "iopub.status.idle": "2022-06-21T01:21:39.736288Z",
     "shell.execute_reply": "2022-06-21T01:21:39.734779Z"
    },
    "papermill": {
     "duration": 0.292398,
     "end_time": "2022-06-21T01:21:39.740368",
     "exception": false,
     "start_time": "2022-06-21T01:21:39.447970",
     "status": "completed"
    },
    "tags": []
   },
   "outputs": [
    {
     "data": {
      "image/png": "[encoded data removed]",
      "text/plain": [
       "<Figure size 432x288 with 1 Axes>"
      ]
     },
     "metadata": {},
     "output_type": "display_data"
    }
   ],
   "source": [
    "pie_df = df.no_show.value_counts()\n",
    "plt.title('Attended Vs. Missed', fontsize=15)\n",
    "plt.pie(pie_df, labels=['Attended', 'Missed'], autopct='%1.0f%%', explode=[0,0.2]); # autopct - displays the percentage value\n",
    "plt.legend();"
   ]
  },
  {
   "cell_type": "markdown",
   "id": "b88c79fa",
   "metadata": {
    "papermill": {
     "duration": 0.019356,
     "end_time": "2022-06-21T01:21:39.787452",
     "exception": false,
     "start_time": "2022-06-21T01:21:39.768096",
     "status": "completed"
    },
    "tags": []
   },
   "source": [
    ">From the above cell, **80% of patients attended their appointments while 20% of them missed.**"
   ]
  },
  {
   "cell_type": "markdown",
   "id": "5b50a2ed",
   "metadata": {
    "papermill": {
     "duration": 0.019187,
     "end_time": "2022-06-21T01:21:39.825379",
     "exception": false,
     "start_time": "2022-06-21T01:21:39.806192",
     "status": "completed"
    },
    "tags": []
   },
   "source": [
    "### 2. Does the age of a patient affect their attendance to appointments?"
   ]
  },
  {
   "cell_type": "markdown",
   "id": "ddeb8fcd",
   "metadata": {
    "papermill": {
     "duration": 0.018181,
     "end_time": "2022-06-21T01:21:39.863372",
     "exception": false,
     "start_time": "2022-06-21T01:21:39.845191",
     "status": "completed"
    },
    "tags": []
   },
   "source": [
    ">We first need to consider the age distribution of patients. See code cell below."
   ]
  },
  {
   "cell_type": "code",
   "execution_count": 28,
   "id": "0fb0e769",
   "metadata": {
    "execution": {
     "iopub.execute_input": "2022-06-21T01:21:39.902284Z",
     "iopub.status.busy": "2022-06-21T01:21:39.901847Z",
     "iopub.status.idle": "2022-06-21T01:21:40.143741Z",
     "shell.execute_reply": "2022-06-21T01:21:40.142953Z"
    },
    "papermill": {
     "duration": 0.263801,
     "end_time": "2022-06-21T01:21:40.145876",
     "exception": false,
     "start_time": "2022-06-21T01:21:39.882075",
     "status": "completed"
    },
    "tags": []
   },
   "outputs": [
    {
     "data": {
      "image/png": "[encoded data removed]",
      "text/plain": [
       "<Figure size 432x288 with 1 Axes>"
      ]
     },
     "metadata": {
      "needs_background": "light"
     },
     "output_type": "display_data"
    }
   ],
   "source": [
    "fig, ax = plt.subplots()\n",
    "ax.hist(df['age'], linewidth=0.5, bins=20)\n",
    "ax.set_xlabel(\"Age\")\n",
    "ax.set_title('Age Distribution');\n",
    "ax.set_ylabel('Number of patients');"
   ]
  },
  {
   "cell_type": "markdown",
   "id": "a536dea4",
   "metadata": {
    "papermill": {
     "duration": 0.018668,
     "end_time": "2022-06-21T01:21:40.183601",
     "exception": false,
     "start_time": "2022-06-21T01:21:40.164933",
     "status": "completed"
    },
    "tags": []
   },
   "source": [
    ">In the above histogram, we can see that the most number of patients are children. We would now group the `age_range` against `no_show` column to see the correlation between a patient's age and their ability to attend an appointment. See code cells below."
   ]
  },
  {
   "cell_type": "code",
   "execution_count": 29,
   "id": "bc7c4e6a",
   "metadata": {
    "execution": {
     "iopub.execute_input": "2022-06-21T01:21:40.224347Z",
     "iopub.status.busy": "2022-06-21T01:21:40.223686Z",
     "iopub.status.idle": "2022-06-21T01:21:40.282377Z",
     "shell.execute_reply": "2022-06-21T01:21:40.281348Z"
    },
    "papermill": {
     "duration": 0.081494,
     "end_time": "2022-06-21T01:21:40.284864",
     "exception": false,
     "start_time": "2022-06-21T01:21:40.203370",
     "status": "completed"
    },
    "tags": []
   },
   "outputs": [],
   "source": [
    "a = df.groupby(['age_range'])['no_show'].count() # Total count of selected columns values.\n",
    "b = df.groupby(['age_range', 'no_show'])['no_show'].count() # Total count of selected columns values against patients who attended and those who missed.\n",
    "c = b/a # Divide b by a to get the count of patients who attended and those who missed"
   ]
  },
  {
   "cell_type": "code",
   "execution_count": 30,
   "id": "5fbef37d",
   "metadata": {
    "execution": {
     "iopub.execute_input": "2022-06-21T01:21:40.325340Z",
     "iopub.status.busy": "2022-06-21T01:21:40.324885Z",
     "iopub.status.idle": "2022-06-21T01:21:40.609797Z",
     "shell.execute_reply": "2022-06-21T01:21:40.608673Z"
    },
    "papermill": {
     "duration": 0.307909,
     "end_time": "2022-06-21T01:21:40.612733",
     "exception": false,
     "start_time": "2022-06-21T01:21:40.304824",
     "status": "completed"
    },
    "tags": []
   },
   "outputs": [
    {
     "data": {
      "image/png": "[encoded data removed]",
      "text/plain": [
       "<Figure size 576x432 with 1 Axes>"
      ]
     },
     "metadata": {
      "needs_background": "light"
     },
     "output_type": "display_data"
    }
   ],
   "source": [
    "c.unstack().plot(kind = 'bar', figsize = (8,6));\n",
    "plt.title('Relation between Age Range and No_show')\n",
    "plt.ylabel('Average number of patients')\n",
    "plt.legend(['Attended','Missed']);"
   ]
  },
  {
   "cell_type": "markdown",
   "id": "774172d0",
   "metadata": {
    "papermill": {
     "duration": 0.019054,
     "end_time": "2022-06-21T01:21:40.652604",
     "exception": false,
     "start_time": "2022-06-21T01:21:40.633550",
     "status": "completed"
    },
    "tags": []
   },
   "source": [
    ">There is no distinct correlation between a patient's age and their ability to attend an appointment. This is because only few patients in the age ranges missed their appoitments. Therefore, the **age of a patient does not affect their attendance to appointments.**"
   ]
  },
  {
   "cell_type": "markdown",
   "id": "68187d35",
   "metadata": {
    "papermill": {
     "duration": 0.018623,
     "end_time": "2022-06-21T01:21:40.690967",
     "exception": false,
     "start_time": "2022-06-21T01:21:40.672344",
     "status": "completed"
    },
    "tags": []
   },
   "source": [
    "### 3. Does increase in number of waiting days affect patients attendance to appointments?"
   ]
  },
  {
   "cell_type": "code",
   "execution_count": 31,
   "id": "61ad14b1",
   "metadata": {
    "execution": {
     "iopub.execute_input": "2022-06-21T01:21:40.732191Z",
     "iopub.status.busy": "2022-06-21T01:21:40.731709Z",
     "iopub.status.idle": "2022-06-21T01:21:40.793512Z",
     "shell.execute_reply": "2022-06-21T01:21:40.792456Z"
    },
    "papermill": {
     "duration": 0.08537,
     "end_time": "2022-06-21T01:21:40.795952",
     "exception": false,
     "start_time": "2022-06-21T01:21:40.710582",
     "status": "completed"
    },
    "tags": []
   },
   "outputs": [],
   "source": [
    "wait_df = df.query('waiting_days <= 12') # get patients who have waiting days of not more than 12 days,\n",
    "new_a = wait_df.groupby(['waiting_days'])['no_show'].count() # Total count of selected columns values.\n",
    "new_b = wait_df.groupby(['waiting_days', 'no_show'])['no_show'].count() # Total count of selected columns values against patients who attended and those who missed.\n",
    "new_c = new_b/new_a # Divide b by a to get the count of patients who attended and those who missed"
   ]
  },
  {
   "cell_type": "code",
   "execution_count": 32,
   "id": "68b8396e",
   "metadata": {
    "execution": {
     "iopub.execute_input": "2022-06-21T01:21:40.838352Z",
     "iopub.status.busy": "2022-06-21T01:21:40.837911Z",
     "iopub.status.idle": "2022-06-21T01:21:41.173931Z",
     "shell.execute_reply": "2022-06-21T01:21:41.172908Z"
    },
    "papermill": {
     "duration": 0.360811,
     "end_time": "2022-06-21T01:21:41.176271",
     "exception": false,
     "start_time": "2022-06-21T01:21:40.815460",
     "status": "completed"
    },
    "tags": []
   },
   "outputs": [
    {
     "data": {
      "image/png": "[encoded data removed]",
      "text/plain": [
       "<Figure size 576x432 with 1 Axes>"
      ]
     },
     "metadata": {
      "needs_background": "light"
     },
     "output_type": "display_data"
    }
   ],
   "source": [
    "new_c.unstack().plot(kind = 'bar', figsize = (8,6));\n",
    "plt.title('Relation between Waiting Days and No_show')\n",
    "plt.ylabel('Average number of waiting days')\n",
    "plt.legend(['Attended','Missed']);"
   ]
  },
  {
   "cell_type": "markdown",
   "id": "6f20d28b",
   "metadata": {
    "papermill": {
     "duration": 0.019313,
     "end_time": "2022-06-21T01:21:41.215153",
     "exception": false,
     "start_time": "2022-06-21T01:21:41.195840",
     "status": "completed"
    },
    "tags": []
   },
   "source": [
    ">There is a direct relationship between waiting days and patients attendance. Patients who had their appointment on the scheduled date attended. However, **increase in the number of waiting days affects attendance** - the more patients have to wait for their appointment, the less they show up when the date is due."
   ]
  },
  {
   "cell_type": "markdown",
   "id": "3b0037cd",
   "metadata": {
    "papermill": {
     "duration": 0.019633,
     "end_time": "2022-06-21T01:21:41.255190",
     "exception": false,
     "start_time": "2022-06-21T01:21:41.235557",
     "status": "completed"
    },
    "tags": []
   },
   "source": [
    "### 4. Does receiving SMS reminder affect patients attendance to appointments?"
   ]
  },
  {
   "cell_type": "markdown",
   "id": "a3c90e76",
   "metadata": {
    "papermill": {
     "duration": 0.020373,
     "end_time": "2022-06-21T01:21:41.295443",
     "exception": false,
     "start_time": "2022-06-21T01:21:41.275070",
     "status": "completed"
    },
    "tags": []
   },
   "source": [
    ">We would first group the `sms_received` and `no_show` columns and get their percentages values. See code cell below."
   ]
  },
  {
   "cell_type": "code",
   "execution_count": 33,
   "id": "6719aab6",
   "metadata": {
    "execution": {
     "iopub.execute_input": "2022-06-21T01:21:41.340456Z",
     "iopub.status.busy": "2022-06-21T01:21:41.340039Z",
     "iopub.status.idle": "2022-06-21T01:21:41.375615Z",
     "shell.execute_reply": "2022-06-21T01:21:41.374594Z"
    },
    "papermill": {
     "duration": 0.062185,
     "end_time": "2022-06-21T01:21:41.378331",
     "exception": false,
     "start_time": "2022-06-21T01:21:41.316146",
     "status": "completed"
    },
    "scrolled": true,
    "tags": []
   },
   "outputs": [
    {
     "data": {
      "text/plain": [
       "sms_received  no_show\n",
       "0             No         0.832965\n",
       "              Yes        0.167035\n",
       "1             No         0.724255\n",
       "              Yes        0.275745\n",
       "Name: no_show, dtype: float64"
      ]
     },
     "execution_count": 33,
     "metadata": {},
     "output_type": "execute_result"
    }
   ],
   "source": [
    "df.groupby('sms_received').no_show.value_counts(normalize=True)"
   ]
  },
  {
   "cell_type": "markdown",
   "id": "edb9c1ce",
   "metadata": {
    "papermill": {
     "duration": 0.021554,
     "end_time": "2022-06-21T01:21:41.420869",
     "exception": false,
     "start_time": "2022-06-21T01:21:41.399315",
     "status": "completed"
    },
    "tags": []
   },
   "source": [
    ">In the code cell above, we can see that about `83%` of those who did not receive an sms reminder attended their appointments. About `72%` of those who received an sms reminder also attended their appointments."
   ]
  },
  {
   "cell_type": "code",
   "execution_count": 34,
   "id": "59ddb87c",
   "metadata": {
    "execution": {
     "iopub.execute_input": "2022-06-21T01:21:41.465990Z",
     "iopub.status.busy": "2022-06-21T01:21:41.465555Z",
     "iopub.status.idle": "2022-06-21T01:21:41.766526Z",
     "shell.execute_reply": "2022-06-21T01:21:41.765166Z"
    },
    "papermill": {
     "duration": 0.325551,
     "end_time": "2022-06-21T01:21:41.768993",
     "exception": false,
     "start_time": "2022-06-21T01:21:41.443442",
     "status": "completed"
    },
    "tags": []
   },
   "outputs": [
    {
     "data": {
      "image/png": "[encoded data removed]",
      "text/plain": [
       "<Figure size 432x288 with 1 Axes>"
      ]
     },
     "metadata": {
      "needs_background": "light"
     },
     "output_type": "display_data"
    }
   ],
   "source": [
    "sns.countplot(x=df['sms_received'], hue=df['no_show']);\n",
    "plt.title('SMS Received VS No SMS');\n",
    "plt.xticks([0, 1], ['SMS', 'No SMS'], rotation=0);\n",
    "plt.legend(['Attended','Missed']);"
   ]
  },
  {
   "cell_type": "markdown",
   "id": "d1cf1aba",
   "metadata": {
    "papermill": {
     "duration": 0.020366,
     "end_time": "2022-06-21T01:21:41.809954",
     "exception": false,
     "start_time": "2022-06-21T01:21:41.789588",
     "status": "completed"
    },
    "tags": []
   },
   "source": [
    ">We can deduce from the above chart that receiving **sms reminders has little to no effect of patients attendance.**"
   ]
  },
  {
   "cell_type": "markdown",
   "id": "846d604b",
   "metadata": {
    "papermill": {
     "duration": 0.021732,
     "end_time": "2022-06-21T01:21:41.853413",
     "exception": false,
     "start_time": "2022-06-21T01:21:41.831681",
     "status": "completed"
    },
    "tags": []
   },
   "source": [
    "<a id='conclusions'></a>\n",
    "## Conclusions\n",
    "\n",
    "> 1. 80% of patients attended their appointments while 20% of them missed.\n",
    "2. The age of a patient does not affect their attendance to appointments.\n",
    "3. Increase in the number of waiting days affects attendance negatively.\n",
    "4. SMS reminders has little to no effect on patients attendance.\n",
    "\n",
    "## Limitations\n",
    "\n",
    "> 1. The dataset has some rows with appointment days coming before their scheduled days, hence negative x values seen in bar chart of question 3.\n"
   ]
  }
 ],
 "metadata": {
  "kernelspec": {
   "display_name": "Python 3",
   "language": "python",
   "name": "python3"
  },
  "language_info": {
   "codemirror_mode": {
    "name": "ipython",
    "version": 3
   },
   "file_extension": ".py",
   "mimetype": "text/x-python",
   "name": "python",
   "nbconvert_exporter": "python",
   "pygments_lexer": "ipython3",
   "version": "3.7.12"
  },
  "papermill": {
   "default_parameters": {},
   "duration": 20.423412,
   "end_time": "2022-06-21T01:21:42.699352",
   "environment_variables": {},
   "exception": null,
   "input_path": "__notebook__.ipynb",
   "output_path": "__notebook__.ipynb",
   "parameters": {},
   "start_time": "2022-06-21T01:21:22.275940",
   "version": "2.3.4"
  }
 },
 "nbformat": 4,
 "nbformat_minor": 5
}
